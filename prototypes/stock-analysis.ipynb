{
 "cells": [
  {
   "cell_type": "code",
   "execution_count": 1,
   "metadata": {},
   "outputs": [],
   "source": [
    "import pandas as pd"
   ]
  },
  {
   "cell_type": "code",
   "execution_count": 70,
   "metadata": {},
   "outputs": [],
   "source": [
    "df_basic_info = pd.read_csv(\"../data/processed/stocks-basic-info.csv\")\n",
    "df_history = pd.read_csv(\"../data/processed/stocks-history.csv\")\n",
    "df_fundaments = pd.read_csv(\"../data/processed/stocks-fundaments.csv\")\n",
    "df_right_prices = pd.read_csv(\"../data/processed/stocks-right-prices.csv\")"
   ]
  },
  {
   "cell_type": "code",
   "execution_count": 10,
   "metadata": {},
   "outputs": [],
   "source": [
    "def get_sectors():\n",
    "    return df_basic_info[[\"SETOR\", \"SUBSETOR\", \"SEGMENTO\"]].drop_duplicates()"
   ]
  },
  {
   "cell_type": "code",
   "execution_count": 16,
   "metadata": {},
   "outputs": [],
   "source": [
    "def get_companies_by_segmento(segmento):\n",
    "    df_tmp = df_basic_info[df_basic_info[\"SEGMENTO\"] == segmento]\n",
    "    return df_tmp[[\"CD_CVM\", \"DENOM_COMERC\", \"TICKERS\"]]"
   ]
  },
  {
   "cell_type": "code",
   "execution_count": 83,
   "metadata": {},
   "outputs": [],
   "source": [
    "def get_latest_values(ticker):\n",
    "    df_history_tmp = df_history[df_history[\"TICKER\"] == ticker]\n",
    "    cd_cvm = df_history_tmp.iloc[0][\"CD_CVM\"]\n",
    "\n",
    "    df_fundaments_tmp = df_fundaments[df_fundaments[\"CD_CVM\"] == cd_cvm]\n",
    "    last_dt_fim_exerc = df_fundaments_tmp[\"DT_FIM_EXERC\"].max()\n",
    "\n",
    "    df_fundaments_tmp = df_fundaments_tmp[df_fundaments_tmp[\"DT_FIM_EXERC\"] == last_dt_fim_exerc]\n",
    "    df_fundaments_tmp_2 = df_fundaments_tmp[df_fundaments_tmp[\"VL_CONTA_ROLLING_YEAR\"] == -1]\n",
    "    df_fundaments_tmp = df_fundaments_tmp[df_fundaments_tmp[\"VL_CONTA_ROLLING_YEAR\"] != -1]\n",
    "    df_fundaments_tmp = df_fundaments_tmp.pivot(index=\"DT_FIM_EXERC\", columns=\"KPI\", values=\"VL_CONTA_ROLLING_YEAR\").reset_index()\n",
    "    df_fundaments_tmp_2 = df_fundaments_tmp_2.pivot(index=\"DT_FIM_EXERC\", columns=\"KPI\", values=\"VL_CONTA\").reset_index()\n",
    "\n",
    "    df_fundaments_tmp = pd.concat([df_fundaments_tmp, df_fundaments_tmp_2], axis=1)\n",
    "    df_fundaments_tmp = df_fundaments_tmp.drop(\"DT_FIM_EXERC\", axis=1)\n",
    "\n",
    "    df_history_tmp = df_history_tmp.tail(1).reset_index(drop=True)\n",
    "\n",
    "    df_right_prices_tmp = df_right_prices[df_right_prices[\"TICKER\"] == ticker]\n",
    "    df_right_prices_tmp = df_right_prices_tmp.drop([\"CD_CVM\", \"TICKER\"], axis=1).reset_index(drop=True)\n",
    "\n",
    "    return pd.concat([df_history_tmp, df_right_prices_tmp, df_fundaments_tmp], axis=1)"
   ]
  },
  {
   "cell_type": "code",
   "execution_count": 11,
   "metadata": {},
   "outputs": [
    {
     "data": {
      "text/html": [
       "<div>\n",
       "<style scoped>\n",
       "    .dataframe tbody tr th:only-of-type {\n",
       "        vertical-align: middle;\n",
       "    }\n",
       "\n",
       "    .dataframe tbody tr th {\n",
       "        vertical-align: top;\n",
       "    }\n",
       "\n",
       "    .dataframe thead th {\n",
       "        text-align: right;\n",
       "    }\n",
       "</style>\n",
       "<table border=\"1\" class=\"dataframe\">\n",
       "  <thead>\n",
       "    <tr style=\"text-align: right;\">\n",
       "      <th></th>\n",
       "      <th>SETOR</th>\n",
       "      <th>SUBSETOR</th>\n",
       "      <th>SEGMENTO</th>\n",
       "    </tr>\n",
       "  </thead>\n",
       "  <tbody>\n",
       "    <tr>\n",
       "      <th>0</th>\n",
       "      <td>Financeiro</td>\n",
       "      <td>Intermediários Financeiros</td>\n",
       "      <td>Bancos</td>\n",
       "    </tr>\n",
       "    <tr>\n",
       "      <th>5</th>\n",
       "      <td>Utilidade Pública</td>\n",
       "      <td>Energia Elétrica</td>\n",
       "      <td>Energia Elétrica</td>\n",
       "    </tr>\n",
       "    <tr>\n",
       "      <th>7</th>\n",
       "      <td>Utilidade Pública</td>\n",
       "      <td>Água e Saneamento</td>\n",
       "      <td>Água e Saneamento</td>\n",
       "    </tr>\n",
       "  </tbody>\n",
       "</table>\n",
       "</div>"
      ],
      "text/plain": [
       "               SETOR                    SUBSETOR           SEGMENTO\n",
       "0         Financeiro  Intermediários Financeiros             Bancos\n",
       "5  Utilidade Pública            Energia Elétrica   Energia Elétrica\n",
       "7  Utilidade Pública           Água e Saneamento  Água e Saneamento"
      ]
     },
     "execution_count": 11,
     "metadata": {},
     "output_type": "execute_result"
    }
   ],
   "source": [
    "get_sectors()"
   ]
  },
  {
   "cell_type": "code",
   "execution_count": 17,
   "metadata": {},
   "outputs": [
    {
     "data": {
      "text/html": [
       "<div>\n",
       "<style scoped>\n",
       "    .dataframe tbody tr th:only-of-type {\n",
       "        vertical-align: middle;\n",
       "    }\n",
       "\n",
       "    .dataframe tbody tr th {\n",
       "        vertical-align: top;\n",
       "    }\n",
       "\n",
       "    .dataframe thead th {\n",
       "        text-align: right;\n",
       "    }\n",
       "</style>\n",
       "<table border=\"1\" class=\"dataframe\">\n",
       "  <thead>\n",
       "    <tr style=\"text-align: right;\">\n",
       "      <th></th>\n",
       "      <th>CD_CVM</th>\n",
       "      <th>DENOM_COMERC</th>\n",
       "      <th>TICKERS</th>\n",
       "    </tr>\n",
       "  </thead>\n",
       "  <tbody>\n",
       "    <tr>\n",
       "      <th>0</th>\n",
       "      <td>906</td>\n",
       "      <td>BANCO BRADESCO S.A.</td>\n",
       "      <td>BBDC3;BBDC4</td>\n",
       "    </tr>\n",
       "    <tr>\n",
       "      <th>1</th>\n",
       "      <td>22616</td>\n",
       "      <td>BANCO UBS PACTUAL S/A</td>\n",
       "      <td>BPAC3;BPAC5;BPAC11</td>\n",
       "    </tr>\n",
       "    <tr>\n",
       "      <th>2</th>\n",
       "      <td>922</td>\n",
       "      <td>BANCO DA AMAZONIA S.A.</td>\n",
       "      <td>BAZA3</td>\n",
       "    </tr>\n",
       "    <tr>\n",
       "      <th>3</th>\n",
       "      <td>1023</td>\n",
       "      <td>BANCO DO BRASIL S.A.</td>\n",
       "      <td>BBAS11;BBAS12;BBAS3</td>\n",
       "    </tr>\n",
       "    <tr>\n",
       "      <th>4</th>\n",
       "      <td>20532</td>\n",
       "      <td>BANCO SANTANDER (BRASIL) S.A.</td>\n",
       "      <td>SANB3;SANB4;SANB11</td>\n",
       "    </tr>\n",
       "    <tr>\n",
       "      <th>14</th>\n",
       "      <td>19348</td>\n",
       "      <td>ITAÚ UNIBANCO</td>\n",
       "      <td>ITUB4;ITUB3</td>\n",
       "    </tr>\n",
       "  </tbody>\n",
       "</table>\n",
       "</div>"
      ],
      "text/plain": [
       "    CD_CVM                   DENOM_COMERC              TICKERS\n",
       "0      906            BANCO BRADESCO S.A.          BBDC3;BBDC4\n",
       "1    22616          BANCO UBS PACTUAL S/A   BPAC3;BPAC5;BPAC11\n",
       "2      922         BANCO DA AMAZONIA S.A.                BAZA3\n",
       "3     1023           BANCO DO BRASIL S.A.  BBAS11;BBAS12;BBAS3\n",
       "4    20532  BANCO SANTANDER (BRASIL) S.A.   SANB3;SANB4;SANB11\n",
       "14   19348                  ITAÚ UNIBANCO          ITUB4;ITUB3"
      ]
     },
     "execution_count": 17,
     "metadata": {},
     "output_type": "execute_result"
    }
   ],
   "source": [
    "get_companies_by_segmento(segmento=\"Bancos\")"
   ]
  },
  {
   "cell_type": "code",
   "execution_count": 84,
   "metadata": {},
   "outputs": [
    {
     "data": {
      "text/html": [
       "<div>\n",
       "<style scoped>\n",
       "    .dataframe tbody tr th:only-of-type {\n",
       "        vertical-align: middle;\n",
       "    }\n",
       "\n",
       "    .dataframe tbody tr th {\n",
       "        vertical-align: top;\n",
       "    }\n",
       "\n",
       "    .dataframe thead th {\n",
       "        text-align: right;\n",
       "    }\n",
       "</style>\n",
       "<table border=\"1\" class=\"dataframe\">\n",
       "  <thead>\n",
       "    <tr style=\"text-align: right;\">\n",
       "      <th></th>\n",
       "      <th>DATE</th>\n",
       "      <th>CD_CVM</th>\n",
       "      <th>TICKER</th>\n",
       "      <th>PRICE</th>\n",
       "      <th>PL</th>\n",
       "      <th>DIVIDEND_YIELD</th>\n",
       "      <th>DIVIDEND_PAYOUT</th>\n",
       "      <th>PVP</th>\n",
       "      <th>BAZIN</th>\n",
       "      <th>EBIT</th>\n",
       "      <th>PROFIT</th>\n",
       "      <th>CGAR_5_YEARS</th>\n",
       "      <th>EQUITY</th>\n",
       "      <th>ROE</th>\n",
       "    </tr>\n",
       "  </thead>\n",
       "  <tbody>\n",
       "    <tr>\n",
       "      <th>0</th>\n",
       "      <td>2024-10-21</td>\n",
       "      <td>1023</td>\n",
       "      <td>BBAS3</td>\n",
       "      <td>26.559999</td>\n",
       "      <td>4.35535</td>\n",
       "      <td>0.094818</td>\n",
       "      <td>0.412965</td>\n",
       "      <td>0.829582</td>\n",
       "      <td>38.205378</td>\n",
       "      <td>4.108161e+10</td>\n",
       "      <td>3.494804e+10</td>\n",
       "      <td>0.150059</td>\n",
       "      <td>1.834792e+11</td>\n",
       "      <td>0.190474</td>\n",
       "    </tr>\n",
       "  </tbody>\n",
       "</table>\n",
       "</div>"
      ],
      "text/plain": [
       "         DATE  CD_CVM TICKER      PRICE       PL  DIVIDEND_YIELD  \\\n",
       "0  2024-10-21    1023  BBAS3  26.559999  4.35535        0.094818   \n",
       "\n",
       "   DIVIDEND_PAYOUT       PVP      BAZIN          EBIT        PROFIT  \\\n",
       "0         0.412965  0.829582  38.205378  4.108161e+10  3.494804e+10   \n",
       "\n",
       "   CGAR_5_YEARS        EQUITY       ROE  \n",
       "0      0.150059  1.834792e+11  0.190474  "
      ]
     },
     "execution_count": 84,
     "metadata": {},
     "output_type": "execute_result"
    }
   ],
   "source": [
    "get_latest_values(ticker=\"BBAS3\")"
   ]
  }
 ],
 "metadata": {
  "kernelspec": {
   "display_name": ".venv",
   "language": "python",
   "name": "python3"
  },
  "language_info": {
   "codemirror_mode": {
    "name": "ipython",
    "version": 3
   },
   "file_extension": ".py",
   "mimetype": "text/x-python",
   "name": "python",
   "nbconvert_exporter": "python",
   "pygments_lexer": "ipython3",
   "version": "3.8.10"
  }
 },
 "nbformat": 4,
 "nbformat_minor": 2
}
