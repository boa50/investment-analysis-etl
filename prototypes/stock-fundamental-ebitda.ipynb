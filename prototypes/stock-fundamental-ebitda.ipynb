{
 "cells": [
  {
   "cell_type": "markdown",
   "metadata": {},
   "source": [
    "### Examples from DRE\n",
    "##### TAEE4\n",
    "3.05\tResultado Antes do Resultado Financeiro e dos Tributos\t646531\t646531\n",
    "\n",
    "3.04.06\tResultado de Equival�ncia Patrimonial\t131871\t-131871\n",
    "\n",
    "3.04.02.03\tDeprecia��o e Amortiza��o\t-4534\t4534\n",
    "\n",
    "3.02.04\tDeprecia��o e Amortiza��o\t-760\t760\n",
    "            \n",
    "##### TRPL4  \n",
    "3.05\tResultado Antes do Resultado Financeiro e dos Tributos\t940350\t940350\n",
    "\n",
    "3.04.06\tResultado de Equival�ncia Patrimonial\t131157\t-131157\n",
    "\n",
    "3.04.04\tOutras Receitas Operacionais\t17654\t-17654\n",
    "\n",
    "3.04.05\tOutras Despesas Operacionais\t-7320\t7320"
   ]
  },
  {
   "cell_type": "code",
   "execution_count": 1,
   "metadata": {},
   "outputs": [],
   "source": [
    "import pandas as pd"
   ]
  },
  {
   "cell_type": "code",
   "execution_count": null,
   "metadata": {},
   "outputs": [],
   "source": []
  }
 ],
 "metadata": {
  "kernelspec": {
   "display_name": ".venv",
   "language": "python",
   "name": "python3"
  },
  "language_info": {
   "codemirror_mode": {
    "name": "ipython",
    "version": 3
   },
   "file_extension": ".py",
   "mimetype": "text/x-python",
   "name": "python",
   "nbconvert_exporter": "python",
   "pygments_lexer": "ipython3",
   "version": "3.8.10"
  }
 },
 "nbformat": 4,
 "nbformat_minor": 2
}
