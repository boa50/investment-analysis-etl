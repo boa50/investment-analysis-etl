{
 "cells": [
  {
   "cell_type": "markdown",
   "metadata": {},
   "source": [
    "### Examples from DRE\n",
    "##### TAEE4\n",
    "3.05\tResultado Antes do Resultado Financeiro e dos Tributos\t646531\t646531\n",
    "\n",
    "3.04.06\tResultado de Equival�ncia Patrimonial\t131871\t-131871\n",
    "\n",
    "3.04.02.03\tDeprecia��o e Amortiza��o\t-4534\t4534\n",
    "\n",
    "3.02.04\tDeprecia��o e Amortiza��o\t-760\t760\n",
    "            \n",
    "##### TRPL4  \n",
    "3.05\tResultado Antes do Resultado Financeiro e dos Tributos\t940350\t940350\n",
    "\n",
    "3.04.06\tResultado de Equival�ncia Patrimonial\t131157\t-131157\n",
    "\n",
    "3.04.04\tOutras Receitas Operacionais\t17654\t-17654\n",
    "\n",
    "3.04.05\tOutras Despesas Operacionais\t-7320\t7320"
   ]
  },
  {
   "cell_type": "code",
   "execution_count": 1,
   "metadata": {},
   "outputs": [],
   "source": [
    "import pandas as pd"
   ]
  },
  {
   "cell_type": "code",
   "execution_count": 2,
   "metadata": {},
   "outputs": [],
   "source": [
    "df_basic = pd.read_csv(\"../data/processed/stocks-basic-info.csv\")"
   ]
  },
  {
   "cell_type": "code",
   "execution_count": 3,
   "metadata": {},
   "outputs": [
    {
     "data": {
      "text/html": [
       "<div>\n",
       "<style scoped>\n",
       "    .dataframe tbody tr th:only-of-type {\n",
       "        vertical-align: middle;\n",
       "    }\n",
       "\n",
       "    .dataframe tbody tr th {\n",
       "        vertical-align: top;\n",
       "    }\n",
       "\n",
       "    .dataframe thead th {\n",
       "        text-align: right;\n",
       "    }\n",
       "</style>\n",
       "<table border=\"1\" class=\"dataframe\">\n",
       "  <thead>\n",
       "    <tr style=\"text-align: right;\">\n",
       "      <th></th>\n",
       "      <th>CD_CVM</th>\n",
       "      <th>DENOM_SOCIAL</th>\n",
       "      <th>CNPJ_CIA</th>\n",
       "      <th>SETOR_ATIV</th>\n",
       "      <th>CONTROLE_ACIONARIO</th>\n",
       "      <th>TICKERS</th>\n",
       "      <th>NUM_ORDINARIAS</th>\n",
       "      <th>NUM_PREFERENCIAIS</th>\n",
       "      <th>NUM_TOTAL</th>\n",
       "    </tr>\n",
       "  </thead>\n",
       "  <tbody>\n",
       "    <tr>\n",
       "      <th>0</th>\n",
       "      <td>906</td>\n",
       "      <td>BANCO BRADESCO S.A.</td>\n",
       "      <td>60.746.948/0001-12</td>\n",
       "      <td>Bancos</td>\n",
       "      <td>PRIVADO</td>\n",
       "      <td>BBDC3;BBDC4</td>\n",
       "      <td>5330304681</td>\n",
       "      <td>5311865547</td>\n",
       "      <td>10642170228</td>\n",
       "    </tr>\n",
       "    <tr>\n",
       "      <th>1</th>\n",
       "      <td>1023</td>\n",
       "      <td>BANCO DO BRASIL S.A.</td>\n",
       "      <td>00.000.000/0001-91</td>\n",
       "      <td>Bancos</td>\n",
       "      <td>ESTATAL</td>\n",
       "      <td>BBAS11;BBAS12;BBAS3</td>\n",
       "      <td>5730834040</td>\n",
       "      <td>0</td>\n",
       "      <td>5730834040</td>\n",
       "    </tr>\n",
       "  </tbody>\n",
       "</table>\n",
       "</div>"
      ],
      "text/plain": [
       "   CD_CVM          DENOM_SOCIAL            CNPJ_CIA SETOR_ATIV  \\\n",
       "0     906   BANCO BRADESCO S.A.  60.746.948/0001-12     Bancos   \n",
       "1    1023  BANCO DO BRASIL S.A.  00.000.000/0001-91     Bancos   \n",
       "\n",
       "  CONTROLE_ACIONARIO              TICKERS  NUM_ORDINARIAS  NUM_PREFERENCIAIS  \\\n",
       "0            PRIVADO          BBDC3;BBDC4      5330304681         5311865547   \n",
       "1            ESTATAL  BBAS11;BBAS12;BBAS3      5730834040                  0   \n",
       "\n",
       "     NUM_TOTAL  \n",
       "0  10642170228  \n",
       "1   5730834040  "
      ]
     },
     "execution_count": 3,
     "metadata": {},
     "output_type": "execute_result"
    }
   ],
   "source": [
    "df_basic.head()"
   ]
  }
 ],
 "metadata": {
  "kernelspec": {
   "display_name": ".venv",
   "language": "python",
   "name": "python3"
  },
  "language_info": {
   "codemirror_mode": {
    "name": "ipython",
    "version": 3
   },
   "file_extension": ".py",
   "mimetype": "text/x-python",
   "name": "python",
   "nbconvert_exporter": "python",
   "pygments_lexer": "ipython3",
   "version": "3.8.10"
  }
 },
 "nbformat": 4,
 "nbformat_minor": 2
}
