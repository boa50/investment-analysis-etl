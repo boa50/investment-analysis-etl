{
 "cells": [
  {
   "cell_type": "code",
   "execution_count": 3,
   "metadata": {},
   "outputs": [],
   "source": [
    "import pandas as pd\n",
    "from bs4 import BeautifulSoup\n",
    "import requests"
   ]
  },
  {
   "cell_type": "code",
   "execution_count": 35,
   "metadata": {},
   "outputs": [],
   "source": [
    "def get_stock_info(cod_cvm):\n",
    "    url = \"https://bvmf.bmfbovespa.com.br/pt-br/mercados/acoes/empresas/ExecutaAcaoConsultaInfoEmp.asp?CodCVM=\" + str(cod_cvm)\n",
    "    page = requests.get(url, verify=False)\n",
    "\n",
    "    soup = BeautifulSoup(page.content, \"html.parser\")\n",
    "    \n",
    "    tickers = soup \\\n",
    "        .find(id=\"accordionDados\") \\\n",
    "        .find_all(\"a\", class_=\"LinkCodNeg\", attrs={\"href\": \"javascript:;\"})\n",
    "\n",
    "    num_stocks = soup \\\n",
    "        .find(id=\"divComposicaoCapitalSocial\") \\\n",
    "        .find_all(\"td\", class_=\"text-right\")\n",
    "    \n",
    "    return {\n",
    "        \"Tickers\": [ticker.text for ticker in tickers],\n",
    "        \"Ordinarias\": int(num_stocks[0].text.replace(\".\", \"\")),\n",
    "        \"Preferenciais\": int(num_stocks[1].text.replace(\".\", \"\")),\n",
    "        \"Total\": int(num_stocks[2].text.replace(\".\", \"\"))\n",
    "        }"
   ]
  },
  {
   "cell_type": "code",
   "execution_count": 37,
   "metadata": {},
   "outputs": [
    {
     "name": "stderr",
     "output_type": "stream",
     "text": [
      "/home/boa50/Desenvolvimento/investment-analysis/.venv/lib/python3.8/site-packages/urllib3/connectionpool.py:1099: InsecureRequestWarning: Unverified HTTPS request is being made to host 'bvmf.bmfbovespa.com.br'. Adding certificate verification is strongly advised. See: https://urllib3.readthedocs.io/en/latest/advanced-usage.html#tls-warnings\n",
      "  warnings.warn(\n"
     ]
    },
    {
     "data": {
      "text/plain": [
       "{'Tickers': ['BBAS11', 'BBAS12', 'BBAS3'],\n",
       " 'Ordinarias': 5730834040,\n",
       " 'Preferenciais': 0,\n",
       " 'Total': 5730834040}"
      ]
     },
     "execution_count": 37,
     "metadata": {},
     "output_type": "execute_result"
    }
   ],
   "source": [
    "get_stock_info(1023)"
   ]
  }
 ],
 "metadata": {
  "kernelspec": {
   "display_name": ".venv",
   "language": "python",
   "name": "python3"
  },
  "language_info": {
   "codemirror_mode": {
    "name": "ipython",
    "version": 3
   },
   "file_extension": ".py",
   "mimetype": "text/x-python",
   "name": "python",
   "nbconvert_exporter": "python",
   "pygments_lexer": "ipython3",
   "version": "3.8.10"
  }
 },
 "nbformat": 4,
 "nbformat_minor": 2
}
