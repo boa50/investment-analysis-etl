{
 "cells": [
  {
   "cell_type": "code",
   "execution_count": 1,
   "metadata": {},
   "outputs": [],
   "source": [
    "import pandas as pd"
   ]
  },
  {
   "cell_type": "code",
   "execution_count": 11,
   "metadata": {},
   "outputs": [],
   "source": [
    "df = pd.read_csv(\"../data/processed/stocks-fundaments.csv\")\n",
    "df_basic_info = pd.read_csv(\"../data/processed/stocks-basic-info.csv\")"
   ]
  },
  {
   "cell_type": "code",
   "execution_count": 44,
   "metadata": {},
   "outputs": [
    {
     "name": "stdout",
     "output_type": "stream",
     "text": [
      "Analysing ITAÚ UNIBANCO (ITUB4;ITUB3)\n",
      "CD_CVM: 19348\n",
      "KPIs: ['EBIT' 'EQUITY' 'PROFIT' 'ROE']\n",
      "\n",
      "EBIT\n",
      "    DT_FIM_EXERC      VL_CONTA  VL_CONTA_ROLLING_YEAR\n",
      "422   2022-09-30  9.827000e+09           3.938900e+10\n",
      "423   2022-12-31  8.416000e+09           3.753300e+10\n",
      "424   2023-03-31  8.237000e+09           3.663700e+10\n",
      "425   2023-06-30  1.090700e+10           3.738700e+10\n",
      "426   2023-09-30  1.047300e+10           3.803300e+10\n",
      "427   2023-12-31  1.008300e+10           3.970000e+10\n",
      "428   2024-03-31  1.220700e+10           4.367000e+10\n",
      "429   2024-06-30  1.226100e+10           4.502400e+10\n",
      "\n",
      "EQUITY\n",
      "    DT_FIM_EXERC      VL_CONTA  VL_CONTA_ROLLING_YEAR\n",
      "798   2022-09-30  1.737170e+11                   -1.0\n",
      "799   2022-12-31  1.773430e+11                   -1.0\n",
      "800   2023-03-31  1.815190e+11                   -1.0\n",
      "801   2023-06-30  1.889410e+11                   -1.0\n",
      "802   2023-09-30  1.926740e+11                   -1.0\n",
      "803   2023-12-31  1.990500e+11                   -1.0\n",
      "804   2024-03-31  1.936770e+11                   -1.0\n",
      "805   2024-06-30  2.027330e+11                   -1.0\n",
      "\n",
      "PROFIT\n",
      "     DT_FIM_EXERC      VL_CONTA  VL_CONTA_ROLLING_YEAR\n",
      "1174   2022-09-30  8.261000e+09           2.999400e+10\n",
      "1175   2022-12-31  7.773000e+09           3.073700e+10\n",
      "1176   2023-03-31  7.534000e+09           3.133600e+10\n",
      "1177   2023-06-30  8.929000e+09           3.249700e+10\n",
      "1178   2023-09-30  8.469000e+09           3.270500e+10\n",
      "1179   2023-12-31  8.945000e+09           3.387700e+10\n",
      "1180   2024-03-31  1.004000e+10           3.638300e+10\n",
      "1181   2024-06-30  1.037000e+10           3.782400e+10\n",
      "\n",
      "ROE\n",
      "     DT_FIM_EXERC  VL_CONTA  VL_CONTA_ROLLING_YEAR\n",
      "1442   2022-09-30  0.172660                   -1.0\n",
      "1443   2022-12-31  0.173319                   -1.0\n",
      "1444   2023-03-31  0.172632                   -1.0\n",
      "1445   2023-06-30  0.171995                   -1.0\n",
      "1446   2023-09-30  0.169743                   -1.0\n",
      "1447   2023-12-31  0.170193                   -1.0\n",
      "1448   2024-03-31  0.187854                   -1.0\n",
      "1449   2024-06-30  0.186571                   -1.0\n"
     ]
    }
   ],
   "source": [
    "cd_cvm = 19348\n",
    "kpis = []\n",
    "\n",
    "df_company = df[df[\"CD_CVM\"] == cd_cvm]\n",
    "\n",
    "if len(kpis) == 0:\n",
    "    kpis = df_company[\"KPI\"].unique()\n",
    "    \n",
    "df_company = df_company[df_company[\"KPI\"].isin(kpis)]\n",
    "\n",
    "df_company = df_company.drop([\"CD_CVM\", \"DT_INI_EXERC\", \"EXERC_YEAR\"], axis=1)\n",
    "\n",
    "df_company[\"DT_FIM_EXERC\"] = pd.to_datetime(df_company[\"DT_FIM_EXERC\"])\n",
    "\n",
    "comapany_name = df_basic_info[df_basic_info[\"CD_CVM\"] ==  cd_cvm][\"DENOM_COMERC\"].iloc[0]\n",
    "comapany_tickers = df_basic_info[df_basic_info[\"CD_CVM\"] ==  cd_cvm][\"TICKERS\"].iloc[0]\n",
    "\n",
    "print(\"Analysing {} ({})\\nCD_CVM: {}\\nKPIs: {}\".format(comapany_name, comapany_tickers, cd_cvm, kpis))\n",
    "\n",
    "for kpi in kpis:\n",
    "    print()\n",
    "    print(kpi)\n",
    "    df_tmp = df_company[df_company[\"KPI\"] == kpi]\n",
    "    df_tmp = df_tmp.drop(\"KPI\", axis=1)\n",
    "    print(df_tmp.tail(8))"
   ]
  },
  {
   "cell_type": "code",
   "execution_count": null,
   "metadata": {},
   "outputs": [],
   "source": []
  }
 ],
 "metadata": {
  "kernelspec": {
   "display_name": ".venv",
   "language": "python",
   "name": "python3"
  },
  "language_info": {
   "codemirror_mode": {
    "name": "ipython",
    "version": 3
   },
   "file_extension": ".py",
   "mimetype": "text/x-python",
   "name": "python",
   "nbconvert_exporter": "python",
   "pygments_lexer": "ipython3",
   "version": "3.8.10"
  }
 },
 "nbformat": 4,
 "nbformat_minor": 2
}
